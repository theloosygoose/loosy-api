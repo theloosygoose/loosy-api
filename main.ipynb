{
 "cells": [
  {
   "cell_type": "code",
   "execution_count": 4,
   "metadata": {},
   "outputs": [],
   "source": [
    "import pandas as pd\n",
    "import requests\n",
    "import time\n",
    "from nba_api.stats.endpoints import playercareerstats\n",
    "from nba_api.stats.static import teams"
   ]
  },
  {
   "cell_type": "code",
   "execution_count": 5,
   "metadata": {},
   "outputs": [
    {
     "data": {
      "text/plain": [
       "[{'id': 1610612737,\n",
       "  'full_name': 'Atlanta Hawks',\n",
       "  'abbreviation': 'ATL',\n",
       "  'nickname': 'Hawks',\n",
       "  'city': 'Atlanta',\n",
       "  'state': 'Atlanta',\n",
       "  'year_founded': 1949},\n",
       " {'id': 1610612738,\n",
       "  'full_name': 'Boston Celtics',\n",
       "  'abbreviation': 'BOS',\n",
       "  'nickname': 'Celtics',\n",
       "  'city': 'Boston',\n",
       "  'state': 'Massachusetts',\n",
       "  'year_founded': 1946},\n",
       " {'id': 1610612739,\n",
       "  'full_name': 'Cleveland Cavaliers',\n",
       "  'abbreviation': 'CLE',\n",
       "  'nickname': 'Cavaliers',\n",
       "  'city': 'Cleveland',\n",
       "  'state': 'Ohio',\n",
       "  'year_founded': 1970}]"
      ]
     },
     "execution_count": 5,
     "metadata": {},
     "output_type": "execute_result"
    }
   ],
   "source": [
    "nba_teams = teams.get_teams()\n",
    "nba_teams[:3]"
   ]
  },
  {
   "cell_type": "code",
   "execution_count": 8,
   "metadata": {},
   "outputs": [
    {
     "data": {
      "text/plain": [
       "[{'id': 76001,\n",
       "  'full_name': 'Alaa Abdelnaby',\n",
       "  'first_name': 'Alaa',\n",
       "  'last_name': 'Abdelnaby',\n",
       "  'is_active': False},\n",
       " {'id': 76002,\n",
       "  'full_name': 'Zaid Abdul-Aziz',\n",
       "  'first_name': 'Zaid',\n",
       "  'last_name': 'Abdul-Aziz',\n",
       "  'is_active': False},\n",
       " {'id': 76003,\n",
       "  'full_name': 'Kareem Abdul-Jabbar',\n",
       "  'first_name': 'Kareem',\n",
       "  'last_name': 'Abdul-Jabbar',\n",
       "  'is_active': False},\n",
       " {'id': 51,\n",
       "  'full_name': 'Mahmoud Abdul-Rauf',\n",
       "  'first_name': 'Mahmoud',\n",
       "  'last_name': 'Abdul-Rauf',\n",
       "  'is_active': False},\n",
       " {'id': 1505,\n",
       "  'full_name': 'Tariq Abdul-Wahad',\n",
       "  'first_name': 'Tariq',\n",
       "  'last_name': 'Abdul-Wahad',\n",
       "  'is_active': False},\n",
       " {'id': 949,\n",
       "  'full_name': 'Shareef Abdur-Rahim',\n",
       "  'first_name': 'Shareef',\n",
       "  'last_name': 'Abdur-Rahim',\n",
       "  'is_active': False},\n",
       " {'id': 76005,\n",
       "  'full_name': 'Tom Abernethy',\n",
       "  'first_name': 'Tom',\n",
       "  'last_name': 'Abernethy',\n",
       "  'is_active': False},\n",
       " {'id': 76006,\n",
       "  'full_name': 'Forest Able',\n",
       "  'first_name': 'Forest',\n",
       "  'last_name': 'Able',\n",
       "  'is_active': False},\n",
       " {'id': 76007,\n",
       "  'full_name': 'John Abramovic',\n",
       "  'first_name': 'John',\n",
       "  'last_name': 'Abramovic',\n",
       "  'is_active': False},\n",
       " {'id': 203518,\n",
       "  'full_name': 'Alex Abrines',\n",
       "  'first_name': 'Alex',\n",
       "  'last_name': 'Abrines',\n",
       "  'is_active': False}]"
      ]
     },
     "execution_count": 8,
     "metadata": {},
     "output_type": "execute_result"
    }
   ],
   "source": [
    "from nba_api.stats.static import players\n",
    "#Returns NBA players as list of dictionaries\n",
    "#each dictionary represnets a different player\n",
    "# i.e each array value is a different nba player\n",
    "nba_players = players.get_players()\n",
    "nba_players[:10]"
   ]
  },
  {
   "cell_type": "code",
   "execution_count": null,
   "metadata": {},
   "outputs": [],
   "source": []
  }
 ],
 "metadata": {
  "interpreter": {
   "hash": "1576e730b0e76224f662ab853f34db21d0d29e336c3d8acb537995c9d041dbc0"
  },
  "kernelspec": {
   "display_name": "Python 3.8.9 64-bit",
   "language": "python",
   "name": "python3"
  },
  "language_info": {
   "codemirror_mode": {
    "name": "ipython",
    "version": 3
   },
   "file_extension": ".py",
   "mimetype": "text/x-python",
   "name": "python",
   "nbconvert_exporter": "python",
   "pygments_lexer": "ipython3",
   "version": "3.8.9"
  },
  "orig_nbformat": 4
 },
 "nbformat": 4,
 "nbformat_minor": 2
}
